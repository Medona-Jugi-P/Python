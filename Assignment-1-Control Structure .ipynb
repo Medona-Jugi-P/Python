{
 "cells": [
  {
   "cell_type": "code",
   "execution_count": 5,
   "id": "ebc31605",
   "metadata": {},
   "outputs": [
    {
     "name": "stdout",
     "output_type": "stream",
     "text": [
      "Welcome to Assignment-1\n"
     ]
    }
   ],
   "source": [
    "print(\"Welcome to Assignment-1\")"
   ]
  },
  {
   "cell_type": "code",
   "execution_count": null,
   "id": "4b77ef05",
   "metadata": {},
   "outputs": [],
   "source": [
    "print(\"Num1\")\n",
    "print(\"Num2\")\n",
    "Add=(\"Num1+Num2\")"
   ]
  },
  {
   "cell_type": "code",
   "execution_count": 1,
   "id": "2f4ee7c4",
   "metadata": {},
   "outputs": [
    {
     "name": "stdout",
     "output_type": "stream",
     "text": [
      " Num1=10\n",
      " Num2=30\n",
      "Add = 40\n"
     ]
    }
   ],
   "source": [
    "num1=int(input(\" Num1=\"))\n",
    "num2=int(input(\" Num2=\"))\n",
    "Add = num1+ num2\n",
    "print(\"Add =\",Add)\n"
   ]
  },
  {
   "cell_type": "code",
   "execution_count": 4,
   "id": "d33408c9",
   "metadata": {},
   "outputs": [
    {
     "name": "stdout",
     "output_type": "stream",
     "text": [
      "Enter the BMI Index:34\n",
      "Very Overweight\n"
     ]
    }
   ],
   "source": [
    "#BODY MASS INDEX\n",
    "\n",
    "weight=int(input(\"Enter the BMI Index:\"))\n",
    "if (weight<18):\n",
    "    print(\"underweight\")\n",
    "elif (weight<25):\n",
    "    print(\"normal\") \n",
    "elif (weight<30):\n",
    "    print(\"overweight\")\n",
    "elif (weight<35):\n",
    "    print(\"Very Overweight\")\n",
    "else:\n",
    "    print(\"Obese\")    "
   ]
  },
  {
   "cell_type": "code",
   "execution_count": null,
   "id": "9464e18b",
   "metadata": {},
   "outputs": [],
   "source": []
  }
 ],
 "metadata": {
  "kernelspec": {
   "display_name": "Python 3",
   "language": "python",
   "name": "python3"
  },
  "language_info": {
   "codemirror_mode": {
    "name": "ipython",
    "version": 3
   },
   "file_extension": ".py",
   "mimetype": "text/x-python",
   "name": "python",
   "nbconvert_exporter": "python",
   "pygments_lexer": "ipython3",
   "version": "3.8.8"
  }
 },
 "nbformat": 4,
 "nbformat_minor": 5
}
