{
 "cells": [
  {
   "cell_type": "code",
   "execution_count": 13,
   "id": "5456f8cd",
   "metadata": {},
   "outputs": [
    {
     "name": "stdout",
     "output_type": "stream",
     "text": [
      "sub-fields in AI are:\n",
      "Machine learning\n",
      "Neural Network\n",
      "Vision\n",
      "Robotics\n",
      "Speech Processing\n",
      "Natural language processing\n"
     ]
    }
   ],
   "source": [
    "##create a class and function,and list out the items in the list\n",
    "class subfieldInAI():\n",
    "    \n",
    "    def Subfields():\n",
    "        x=[\"Machine learning\",\"Neural Network\",\"Vision\",\"Robotics\",\"Speech Processing\",\"Natural language processing\"]\n",
    "        print(\"sub-fields in AI are:\")\n",
    "        print(*x, sep=\"\\n\")\n",
    "\n",
    "subfieldInAI.Subfields()"
   ]
  },
  {
   "cell_type": "code",
   "execution_count": 5,
   "id": "c50c6712",
   "metadata": {},
   "outputs": [],
   "source": [
    "#Find OddEven\n",
    "\n",
    "class OddEven():\n",
    "    def OddEven():\n",
    "        number=int(input(\"Enter a number:\"))\n",
    "        if(number%2==0):\n",
    "            print(f\"{number} is even number\")\n",
    "            msg=\"even\"\n",
    "        else:\n",
    "            print(f\"{number} is odd number\") \n",
    "            msg = \"odd\" \n",
    "        return msg\n",
    "                  "
   ]
  },
  {
   "cell_type": "code",
   "execution_count": 6,
   "id": "49e0c330",
   "metadata": {},
   "outputs": [
    {
     "name": "stdout",
     "output_type": "stream",
     "text": [
      "Enter a number:52452\n",
      "52452 is even number\n"
     ]
    },
    {
     "data": {
      "text/plain": [
       "'even'"
      ]
     },
     "execution_count": 6,
     "metadata": {},
     "output_type": "execute_result"
    }
   ],
   "source": [
    "OddEven.OddEven()"
   ]
  },
  {
   "cell_type": "code",
   "execution_count": 3,
   "id": "8ddd4b64",
   "metadata": {},
   "outputs": [],
   "source": [
    "#create a function  that tells elegibility of marriage for male and female\n",
    "#...according to their age limit like 21 for male and 18 for female\n",
    "class ElegibilityForMarriage():\n",
    "    \n",
    "    def Elegible():\n",
    "        Gender=input(\"Your Gender:\")\n",
    "        maleAge=int(input(\"Your Age:\"))\n",
    "        if(maleAge>=21):\n",
    "            print(\"ELEGIBLE\")\n",
    "        else:\n",
    "            print(\"NOT ELEGIBLE\")\n",
    "            "
   ]
  },
  {
   "cell_type": "code",
   "execution_count": 4,
   "id": "1edf2a14",
   "metadata": {},
   "outputs": [
    {
     "name": "stdout",
     "output_type": "stream",
     "text": [
      "Your Gender:Male\n",
      "Your Age:23\n",
      "ELEGIBLE\n"
     ]
    }
   ],
   "source": [
    "ElegibilityForMarriage.Elegible()"
   ]
  },
  {
   "cell_type": "code",
   "execution_count": 5,
   "id": "03eb1673",
   "metadata": {},
   "outputs": [],
   "source": [
    "class ElegibilityForMarriage():\n",
    "    \n",
    "    def Elegible():\n",
    "        Gender=input(\"Your Gender:\")\n",
    "        maleAge=int(input(\"Your Age:\"))\n",
    "        if(maleAge>=21):\n",
    "            print(\"ELEGIBLE\")\n",
    "        else:\n",
    "            print(\"NOT ELEGIBLE\")"
   ]
  },
  {
   "cell_type": "code",
   "execution_count": 7,
   "id": "2bf98d52",
   "metadata": {},
   "outputs": [
    {
     "name": "stdout",
     "output_type": "stream",
     "text": [
      "Your Gender:Male\n",
      "Your Age:20\n",
      "NOT ELEGIBLE\n"
     ]
    }
   ],
   "source": [
    "ElegibilityForMarriage.Elegible()"
   ]
  },
  {
   "cell_type": "code",
   "execution_count": 9,
   "id": "bf89f3e8",
   "metadata": {},
   "outputs": [],
   "source": [
    "#Find percentage\n",
    "class FindPercent():\n",
    "    \n",
    "    def percentage():\n",
    "        sub1=int(input(\"Subject1=\"))\n",
    "        sub2=int(input(\"Subject2=\"))\n",
    "        sub3=int(input(\"Subject3=\"))\n",
    "        sub4=int(input(\"Subject4=\"))\n",
    "        sub5=int(input(\"Subject5=\"))\n",
    "        total=sub1+sub2+sub3+sub4+sub5\n",
    "        print(\"Total:\",total)\n",
    "        percentage=(total/500)*100\n",
    "        print(\"Percentage:\",percentage,)\n"
   ]
  },
  {
   "cell_type": "code",
   "execution_count": 10,
   "id": "47c54f93",
   "metadata": {},
   "outputs": [
    {
     "name": "stdout",
     "output_type": "stream",
     "text": [
      "Subject1=98\n",
      "Subject2=87\n",
      "Subject3=95\n",
      "Subject4=95\n",
      "Subject5=93\n",
      "Total: 468\n",
      "Percentage: 93.60000000000001\n"
     ]
    }
   ],
   "source": [
    "FindPercent.percentage()"
   ]
  },
  {
   "cell_type": "code",
   "execution_count": null,
   "id": "8e047f62",
   "metadata": {},
   "outputs": [],
   "source": [
    "#print area and perimeter of triangle using class and functions"
   ]
  },
  {
   "cell_type": "code",
   "execution_count": 3,
   "id": "e6b4efaf",
   "metadata": {},
   "outputs": [
    {
     "name": "stdout",
     "output_type": "stream",
     "text": [
      "Height: 32\n",
      "Breadth: 34\n",
      "Area Formula: (Height*Breadth)/2\n",
      "Area of Triangle: 544.0\n",
      "Height1: 2\n",
      "Height2: 4\n",
      "Breadth: 4\n",
      "Perimeter Formula: Height1+Height2+Breadth\n",
      "Perimeter of a Triangle:  10.0\n"
     ]
    }
   ],
   "source": [
    "class Findtriangle():\n",
    "    def triangle():\n",
    "        Height=float(input(\"Height: \"))\n",
    "        Breadth=float(input(\"Breadth: \"))\n",
    "        Area=(Height*Breadth)/2\n",
    "        print(\"Area Formula: (Height*Breadth)/2\")\n",
    "        print(\"Area of Triangle:\",Area)\n",
    "        Height1 = float(input(\"Height1: \"))\n",
    "        Height2 = float(input(\"Height2: \"))\n",
    "        Breadth = float(input(\"Breadth: \")) \n",
    "        Perimeter = Height1+Height2+Breadth\n",
    "        print(\"Perimeter Formula: Height1+Height2+Breadth\")\n",
    "        print(\"Perimeter of a Triangle: \",Perimeter)\n",
    "        \n",
    "    \n",
    "Findtriangle.triangle()                  \n",
    "                  "
   ]
  },
  {
   "cell_type": "code",
   "execution_count": 2,
   "id": "0ec336c2",
   "metadata": {},
   "outputs": [],
   "source": [
    "class multipleFunctions():\n",
    "    def Subfields():\n",
    "        x=[\"Machine learning\",\"Neural Network\",\"Vision\",\"Robotics\",\"Speech Processing\",\"Natural language processing\"]\n",
    "        print(\"sub-fields in AI are:\")\n",
    "        print(*x, sep=\"\\n\")\n",
    "\n",
    "    def OddEven():\n",
    "        number=int(input(\"Enter a number:\"))\n",
    "        if number % 2 == 0:\n",
    "            print(f\"{number} is an even number.\")\n",
    "            msg=\"even\"\n",
    "        else:\n",
    "            print(f\"{number} is an odd number.\")\n",
    "            msg=\"odd\"\n",
    "        return msg\n",
    "\n",
    "    def Elegible():\n",
    "        Gender=input(\"Your Gender:\")\n",
    "        maleAge=int(input(\"Your Age:\"))\n",
    "        if(maleAge>=21):\n",
    "            print(\"ELEGIBLE\")\n",
    "        else:\n",
    "            print(\"NOT ELEGIBLE\")\n",
    "\n",
    "    def percentage():\n",
    "        sub1=int(input(\"Subject1=\"))\n",
    "        sub2=int(input(\"Subject2=\"))\n",
    "        sub3=int(input(\"Subject3=\"))\n",
    "        sub4=int(input(\"Subject4=\"))\n",
    "        sub5=int(input(\"Subject5=\"))\n",
    "        total=sub1+sub2+sub3+sub4+sub5\n",
    "        print(\"Total:\",total)\n",
    "        percentage=(total/500)*100\n",
    "        print(\"Percentage:\",percentage,)\n",
    "\n",
    "    def triangle():\n",
    "        Height=float(input(\"Height: \"))\n",
    "        Breadth=float(input(\"Breadth: \"))\n",
    "        Area=(Height*Breadth)/2\n",
    "        print(\"Area Formula: (Height*Breadth)/2\")\n",
    "        print(\"Area of Triangle:\",Area)\n",
    "        Height1 = float(input(\"Height1: \"))\n",
    "        Height2 = float(input(\"Height2: \"))\n",
    "        Breadth = float(input(\"Breadth: \")) \n",
    "        Perimeter = Height1+Height2+Breadth\n",
    "        print(\"Perimeter Formula: Height1+Height2+Breadth\")\n",
    "        print(\"Perimeter of a Triangle: \",Perimeter)\n"
   ]
  },
  {
   "cell_type": "code",
   "execution_count": 3,
   "id": "b75b86ed",
   "metadata": {},
   "outputs": [
    {
     "name": "stdout",
     "output_type": "stream",
     "text": [
      "Your Gender:male\n",
      "Your Age:25\n",
      "ELEGIBLE\n"
     ]
    }
   ],
   "source": [
    "multipleFunctions.Elegible()"
   ]
  },
  {
   "cell_type": "code",
   "execution_count": null,
   "id": "31fb9d7a",
   "metadata": {},
   "outputs": [],
   "source": []
  }
 ],
 "metadata": {
  "kernelspec": {
   "display_name": "Python 3",
   "language": "python",
   "name": "python3"
  },
  "language_info": {
   "codemirror_mode": {
    "name": "ipython",
    "version": 3
   },
   "file_extension": ".py",
   "mimetype": "text/x-python",
   "name": "python",
   "nbconvert_exporter": "python",
   "pygments_lexer": "ipython3",
   "version": "3.8.8"
  }
 },
 "nbformat": 4,
 "nbformat_minor": 5
}
