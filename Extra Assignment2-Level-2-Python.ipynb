{
 "cells": [
  {
   "cell_type": "code",
   "execution_count": 1,
   "id": "2daea984",
   "metadata": {},
   "outputs": [
    {
     "name": "stdout",
     "output_type": "stream",
     "text": [
      "0\n",
      "1\n",
      "2\n",
      "3\n",
      "4\n",
      "5\n",
      "6\n",
      "7\n",
      "8\n",
      "9\n",
      "10\n",
      "11\n",
      "12\n",
      "13\n",
      "14\n",
      "15\n",
      "16\n",
      "17\n",
      "18\n",
      "19\n"
     ]
    }
   ],
   "source": [
    "#print 0 to 20 by using range\n",
    "for i in range(0,20):\n",
    "    print(i)"
   ]
  },
  {
   "cell_type": "code",
   "execution_count": 3,
   "id": "89c77226",
   "metadata": {},
   "outputs": [
    {
     "name": "stdout",
     "output_type": "stream",
     "text": [
      "10 11 12 13 14 15 16 17 18 19 "
     ]
    }
   ],
   "source": [
    "#print range 10 to 20\n",
    "\n",
    "for i in range(10,20):\n",
    "    print(i,end=\" \")"
   ]
  },
  {
   "cell_type": "code",
   "execution_count": 4,
   "id": "0424bcf7",
   "metadata": {},
   "outputs": [
    {
     "name": "stdout",
     "output_type": "stream",
     "text": [
      "[10, 20, 14, 55, 43, 87, 76]\n",
      "[10, 20, 14, 55, 43, 87, 76]\n",
      "[10, 20, 14, 55, 43, 87, 76]\n",
      "[10, 20, 14, 55, 43, 87, 76]\n",
      "[10, 20, 14, 55, 43, 87, 76]\n",
      "[10, 20, 14, 55, 43, 87, 76]\n",
      "[10, 20, 14, 55, 43, 87, 76]\n"
     ]
    }
   ],
   "source": [
    "list=[10,20,14,55,43,87,76]\n",
    "for i in list:\n",
    "    print(list)"
   ]
  },
  {
   "cell_type": "code",
   "execution_count": 5,
   "id": "03f44ed2",
   "metadata": {},
   "outputs": [
    {
     "name": "stdout",
     "output_type": "stream",
     "text": [
      "Number of item in the List?:7\n"
     ]
    }
   ],
   "source": [
    "list=[10,20,14,55,43,87,76]\n",
    "no_list=int(input(\"Number of item in the List?:\"))"
   ]
  },
  {
   "cell_type": "code",
   "execution_count": 7,
   "id": "b647c712",
   "metadata": {},
   "outputs": [
    {
     "name": "stdout",
     "output_type": "stream",
     "text": [
      "[10, 20, 14, 55, 43, 87, 76]\n",
      "Number of item in the List?: 7\n"
     ]
    }
   ],
   "source": [
    "list=[10,20,14,55,43,87,76]\n",
    "list_length=len(list)\n",
    "print(list)\n",
    "print(\"Number of item in the List?:\",list_length)"
   ]
  },
  {
   "cell_type": "code",
   "execution_count": 11,
   "id": "e256ab75",
   "metadata": {},
   "outputs": [
    {
     "name": "stdout",
     "output_type": "stream",
     "text": [
      "Artificial Intelligence\n",
      "A\n",
      "r\n",
      "t\n",
      "i\n",
      "f\n",
      "i\n",
      "c\n",
      "i\n",
      "a\n",
      "l\n",
      " \n",
      "I\n",
      "n\n",
      "t\n",
      "e\n",
      "l\n",
      "l\n",
      "i\n",
      "g\n",
      "e\n",
      "n\n",
      "c\n",
      "e\n"
     ]
    }
   ],
   "source": [
    "AI=\"Artificial Intelligence\"\n",
    "print(AI)\n",
    "for a in AI:\n",
    "    print(a)\n"
   ]
  },
  {
   "cell_type": "code",
   "execution_count": 2,
   "id": "dfda16da",
   "metadata": {},
   "outputs": [
    {
     "name": "stdout",
     "output_type": "stream",
     "text": [
      "-Your Name-\n",
      "-Your Age-\n",
      "-Your Profession-\n"
     ]
    }
   ],
   "source": [
    "getInfo=[\"Your Name\",\"Your Age\",\"Your Profession\"]\n",
    "\n",
    "for info in getInfo:\n",
    "    print(\"-\" + info + \"-\")"
   ]
  },
  {
   "cell_type": "code",
   "execution_count": 2,
   "id": "f956983e",
   "metadata": {},
   "outputs": [
    {
     "name": "stdout",
     "output_type": "stream",
     "text": [
      "(5, 'Welcome', 7, 'Geeks')\n"
     ]
    }
   ],
   "source": [
    "#mixed datatype in tuples\n",
    "Tuple1 = (5, 'Welcome', 7, 'Geeks')\n",
    "print(Tuple1)"
   ]
  },
  {
   "cell_type": "code",
   "execution_count": null,
   "id": "a914d3af",
   "metadata": {},
   "outputs": [],
   "source": [
    "print(\"\\nTuple with Mixed Datatypes: \")\n",
    "print(Tuple1)"
   ]
  },
  {
   "cell_type": "code",
   "execution_count": 3,
   "id": "d09550ea",
   "metadata": {},
   "outputs": [
    {
     "name": "stdout",
     "output_type": "stream",
     "text": [
      "((0, 1, 2, 3), ('python', 'Hope'))\n"
     ]
    }
   ],
   "source": [
    "#nested tuple\n",
    "Tuple1=(0,1,2,3)\n",
    "Tuple2=('python' , 'Hope')\n",
    "Tuple3=(Tuple1,Tuple2)\n",
    "print(Tuple3)"
   ]
  },
  {
   "cell_type": "code",
   "execution_count": 10,
   "id": "e51e8349",
   "metadata": {},
   "outputs": [
    {
     "name": "stdout",
     "output_type": "stream",
     "text": [
      "19 is odd\n",
      "25 is odd\n",
      "1 is odd\n"
     ]
    }
   ],
   "source": [
    "list=[20,10,16,19,25,1,276,188]\n",
    "for num in list:\n",
    "    if((num%2==1)):\n",
    "        print(f\"{num} is odd\")\n",
    "    "
   ]
  },
  {
   "cell_type": "code",
   "execution_count": 11,
   "id": "b64b0a83",
   "metadata": {},
   "outputs": [
    {
     "name": "stdout",
     "output_type": "stream",
     "text": [
      "20 is odd\n",
      "10 is odd\n",
      "16 is odd\n",
      "276 is odd\n",
      "188 is odd\n"
     ]
    }
   ],
   "source": [
    "list=[20,10,16,19,25,1,276,188]\n",
    "for num in list:\n",
    "    if((num%2==0)):\n",
    "        print(f\"{num} is odd\")"
   ]
  },
  {
   "cell_type": "code",
   "execution_count": 13,
   "id": "566f66b7",
   "metadata": {},
   "outputs": [
    {
     "name": "stdout",
     "output_type": "stream",
     "text": [
      "20 is even\n",
      "10 is even\n",
      "16 is even\n",
      "276 is even\n",
      "188 is even\n"
     ]
    }
   ],
   "source": [
    "list=[20,10,16,19,25,1,276,188]\n",
    "for num in list:\n",
    "    if((num%2==0)):\n",
    "        print(f\"{num} is even\")"
   ]
  },
  {
   "cell_type": "code",
   "execution_count": null,
   "id": "42634cda",
   "metadata": {},
   "outputs": [],
   "source": []
  }
 ],
 "metadata": {
  "kernelspec": {
   "display_name": "Python 3",
   "language": "python",
   "name": "python3"
  },
  "language_info": {
   "codemirror_mode": {
    "name": "ipython",
    "version": 3
   },
   "file_extension": ".py",
   "mimetype": "text/x-python",
   "name": "python",
   "nbconvert_exporter": "python",
   "pygments_lexer": "ipython3",
   "version": "3.8.8"
  }
 },
 "nbformat": 4,
 "nbformat_minor": 5
}
