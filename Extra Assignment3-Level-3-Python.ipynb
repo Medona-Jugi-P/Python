{
 "cells": [
  {
   "cell_type": "code",
   "execution_count": 1,
   "id": "bdd3d369",
   "metadata": {},
   "outputs": [
    {
     "name": "stdout",
     "output_type": "stream",
     "text": [
      "value: 10\n",
      "correct\n"
     ]
    }
   ],
   "source": [
    "#if statement\n",
    "i=int(input(\"value: \"))\n",
    "if(i==10):\n",
    "    print(\"correct\")"
   ]
  },
  {
   "cell_type": "code",
   "execution_count": 2,
   "id": "41666add",
   "metadata": {},
   "outputs": [
    {
     "name": "stdout",
     "output_type": "stream",
     "text": [
      "Enter the password:HOPE@123\n",
      "your password is correct\n"
     ]
    }
   ],
   "source": [
    "enter_PW=(input(\"Enter the password:\"))\n",
    "PW=\"HOPE@123\"\n",
    "if enter_PW==PW:\n",
    "    print(\"your password is correct\")\n",
    "else:\n",
    "    print(\"your password is incorrect\")"
   ]
  },
  {
   "cell_type": "code",
   "execution_count": 1,
   "id": "4123b981",
   "metadata": {},
   "outputs": [
    {
     "name": "stdout",
     "output_type": "stream",
     "text": [
      "enter age:20\n",
      "adult\n"
     ]
    }
   ],
   "source": [
    "age=int(input(\"enter age:\"))\n",
    "if age<18:\n",
    "    print(\"children\")\n",
    "elif age<35:\n",
    "    print(\"adult\")\n",
    "elif age<55:\n",
    "    print(\"citizen\")\n",
    "elif age>55:\n",
    "    print(\"senior citizen\")"
   ]
  },
  {
   "cell_type": "code",
   "execution_count": 1,
   "id": "2b36a3f2",
   "metadata": {},
   "outputs": [
    {
     "name": "stdout",
     "output_type": "stream",
     "text": [
      "enter any number:1\n",
      "no is positive\n"
     ]
    }
   ],
   "source": [
    "ent_num=int(input(\"enter any number:\"))\n",
    "if ent_num<0:\n",
    "    print(\"no is negative\")\n",
    "else:\n",
    "    print(\"no is positive\")"
   ]
  },
  {
   "cell_type": "code",
   "execution_count": 2,
   "id": "7b3c6abc",
   "metadata": {},
   "outputs": [
    {
     "name": "stdout",
     "output_type": "stream",
     "text": [
      "enter a number to check:22\n",
      "No is not divisble by 5\n"
     ]
    }
   ],
   "source": [
    "ent_num=int(input(\"enter a number to check:\"))\n",
    "if(ent_num%5==0):\n",
    "    print(\"No is divisble by 5\")\n",
    "else:\n",
    "    print(\"No is not divisble by 5\")\n",
    "    "
   ]
  },
  {
   "cell_type": "code",
   "execution_count": null,
   "id": "d98869d7",
   "metadata": {},
   "outputs": [],
   "source": []
  }
 ],
 "metadata": {
  "kernelspec": {
   "display_name": "Python 3",
   "language": "python",
   "name": "python3"
  },
  "language_info": {
   "codemirror_mode": {
    "name": "ipython",
    "version": 3
   },
   "file_extension": ".py",
   "mimetype": "text/x-python",
   "name": "python",
   "nbconvert_exporter": "python",
   "pygments_lexer": "ipython3",
   "version": "3.8.8"
  }
 },
 "nbformat": 4,
 "nbformat_minor": 5
}
