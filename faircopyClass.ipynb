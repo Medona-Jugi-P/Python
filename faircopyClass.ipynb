{
 "cells": [
  {
   "cell_type": "code",
   "execution_count": 6,
   "id": "fe6d4ae3",
   "metadata": {},
   "outputs": [],
   "source": [
    "#from filename import classname\n",
    "from multipleFunctions import multipleFunction"
   ]
  },
  {
   "cell_type": "code",
   "execution_count": 7,
   "id": "c16cbbd9",
   "metadata": {},
   "outputs": [
    {
     "name": "stdout",
     "output_type": "stream",
     "text": [
      "sub-fields in AI are:\n",
      "Machine learning\n",
      "Neural Network\n",
      "Vision\n",
      "Robotics\n",
      "Speech Processing\n",
      "Natural language processing\n",
      "None\n"
     ]
    }
   ],
   "source": [
    "result1=multipleFunction.Subfields()\n",
    "print(result1)"
   ]
  },
  {
   "cell_type": "code",
   "execution_count": 8,
   "id": "b05d4f54",
   "metadata": {},
   "outputs": [
    {
     "name": "stdout",
     "output_type": "stream",
     "text": [
      "Enter a number:45\n",
      "45 is an odd number.\n",
      "odd\n"
     ]
    }
   ],
   "source": [
    "result2=multipleFunction.OddEven()\n",
    "print(result2)"
   ]
  },
  {
   "cell_type": "code",
   "execution_count": 9,
   "id": "8aa500d4",
   "metadata": {},
   "outputs": [
    {
     "name": "stdout",
     "output_type": "stream",
     "text": [
      "Your Gender:Male\n",
      "Your Age:18\n",
      "NOT ELEGIBLE\n",
      "None\n"
     ]
    }
   ],
   "source": [
    "result3=multipleFunction.Elegible()\n",
    "print(result3)"
   ]
  },
  {
   "cell_type": "code",
   "execution_count": 10,
   "id": "7febdc6f",
   "metadata": {},
   "outputs": [
    {
     "name": "stdout",
     "output_type": "stream",
     "text": [
      "Subject1=91\n",
      "Subject2=82\n",
      "Subject3=94\n",
      "Subject4=98\n",
      "Subject5=100\n",
      "Total: 465\n",
      "Percentage: 93.0\n",
      "None\n"
     ]
    }
   ],
   "source": [
    "result4=multipleFunction.percentage()\n",
    "print(result4)"
   ]
  },
  {
   "cell_type": "code",
   "execution_count": 12,
   "id": "2a01e550",
   "metadata": {},
   "outputs": [
    {
     "name": "stdout",
     "output_type": "stream",
     "text": [
      "Height: 33\n",
      "Breadth: 34\n",
      "Area Formula: (Height*Breadth)/2\n",
      "Area of Triangle: 561.0\n",
      "Height1: 4\n",
      "Height2: 4\n",
      "Breadth: 2\n",
      "Perimeter Formula: Height1+Height2+Breadth\n",
      "Perimeter of a Triangle:  10.0\n",
      "None\n"
     ]
    }
   ],
   "source": [
    "result5=multipleFunction.triangle()\n",
    "print(result5)"
   ]
  },
  {
   "cell_type": "code",
   "execution_count": null,
   "id": "951b723d",
   "metadata": {},
   "outputs": [],
   "source": []
  }
 ],
 "metadata": {
  "kernelspec": {
   "display_name": "Python 3",
   "language": "python",
   "name": "python3"
  },
  "language_info": {
   "codemirror_mode": {
    "name": "ipython",
    "version": 3
   },
   "file_extension": ".py",
   "mimetype": "text/x-python",
   "name": "python",
   "nbconvert_exporter": "python",
   "pygments_lexer": "ipython3",
   "version": "3.8.8"
  }
 },
 "nbformat": 4,
 "nbformat_minor": 5
}
